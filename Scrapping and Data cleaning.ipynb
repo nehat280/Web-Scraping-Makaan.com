{
 "cells": [
  {
   "cell_type": "code",
   "execution_count": 144,
   "metadata": {},
   "outputs": [],
   "source": [
    "import webbrowser, bs4, requests\n",
    "import re\n",
    "import pandas as pd\n",
    "import numpy as np"
   ]
  },
  {
   "cell_type": "code",
   "execution_count": 5,
   "metadata": {},
   "outputs": [],
   "source": [
    "# Creating empty lists in-order to append data scrapped from url's.\n",
    "# The number of lists depends on the number of features you are extracting from the url.\n",
    "\n",
    "title=[]\n",
    "location=[]\n",
    "price=[]\n",
    "price_per_sqft=[]\n",
    "area_in_sqft=[]\n",
    "building_status=[]"
   ]
  },
  {
   "cell_type": "code",
   "execution_count": 6,
   "metadata": {},
   "outputs": [
    {
     "name": "stdout",
     "output_type": "stream",
     "text": [
      "You scraped 2013 pages containing 4840 properties.\n"
     ]
    }
   ],
   "source": [
    "\n",
    "n_pages = 0\n",
    "for page in range(3,2016):  #The no. of pages you wanted to scrap considering pages available in the url.\n",
    "    n_pages += 1\n",
    "    url = 'http://www.makaan.com/hyderabad-residential-property/buy-property-in-hyderabad-city?budget=,'+'&page='+str(page)\n",
    "    # This for gets us into next page after every iteration.\n",
    "    r = requests.get(url) # Here r is response data.\n",
    "    page_html = bs4.BeautifulSoup(r.text, 'html.parser') \n",
    "    house_containers = page_html.find_all(\"li\",class_=\"cardholder\") # Class containing overall data of a property.\n",
    "    for data in house_containers:\n",
    "################################   TITLE   ########################################  \n",
    "\n",
    "        type_=data.find_all(\"a\",class_=\"typelink\") # Class containing title name of a property.\n",
    "        for i in type_:\n",
    "            d=i.text\n",
    "            title.append(d) # Appending the extracted data into a list.\n",
    "            \n",
    "################################ LOCATION  #######################################\n",
    "\n",
    "        location_=data.find_all(\"a\",class_=\"loclink\")\n",
    "        for i in location_:\n",
    "            d=i.text\n",
    "            r= d.split(',',)[0] # Splitting the obtained text and returning the first element of text.\n",
    "            location.append(r)\n",
    "            \n",
    "################################    PRICE    ######################################\n",
    "\n",
    "        cost=data.find_all(\"td\",class_=\"price\")\n",
    "        for i in cost:\n",
    "            d=i.text\n",
    "            if 'L' in d:\n",
    "                a = d.split()[0]\n",
    "                price.append(float(a)) # Type conversion of obtained data.\n",
    "            elif 'Cr' in d:\n",
    "                b = d.split()[0]\n",
    "                price.append(float(b) * 100) # Coverting CRORES into LAKHS.\n",
    "            else:  # If no value found in the class return value 0.\n",
    "                e=0\n",
    "                price.append(float(e)) \n",
    "                \n",
    "############################   PRICE PER SQFT   ###################################\n",
    "\n",
    "        rate_sqft=data.find_all('td',class_=\"lbl rate\")\n",
    "        for i in rate_sqft:\n",
    "            d=i.text\n",
    "            res= d.split('/',)[0]\n",
    "            r=re.sub(\",\",\"\" ,res) # Substitute no character in the place of ,(comma).\n",
    "            price_per_sqft.append(r)\n",
    "            \n",
    "############################   AREA IN SQFT    ####################################\n",
    "\n",
    "        area_sqft=data.find_all('td',class_=\"size\")\n",
    "        for i in area_sqft:\n",
    "            d=i.text\n",
    "            area_in_sqft.append(d)\n",
    "            \n",
    "##########################   BUILDING STATUS    ###################################\n",
    "\n",
    "        building_status_=data.find_all(\"td\",class_=\"val\")\n",
    "        for i in building_status_:\n",
    "            d=i.text\n",
    "            building_status.append(d)\n",
    "\n",
    "###################################################################################\n",
    "\n",
    "print('You scraped {} pages containing {} properties.'.format(n_pages, len(title)))\n",
    "# Returns the number of pages scrapped and time taken for scarpping those pages.\n"
   ]
  },
  {
   "cell_type": "code",
   "execution_count": null,
   "metadata": {},
   "outputs": [],
   "source": [
    "n_pages = 0\n",
    "agent_ratings=[]\n",
    "for page in range(3,2016):\n",
    "    n_pages += 1\n",
    "    url = 'http://www.makaan.com/hyderabad-residential-property/buy-property-in-hyderabad-city?budget=,'+'&page='+str(page)\n",
    "    r = requests.get(url)\n",
    "    if (r.status_code == 200):\n",
    "        page_html = bs4.BeautifulSoup(r.text, 'html.parser')\n",
    "        house_containers = page_html.find_all(\"li\",class_=\"cardholder\")\n",
    "        for i,data in enumerate(house_containers):\n",
    "            agent_rating_ = data.find_all('div', class_=\"rating\")\n",
    "            if len(agent_rating_)==1:\n",
    "                for j in agent_rating_:\n",
    "                    d=j.text\n",
    "                    agent_ratings.append(d)\n",
    "            else:\n",
    "                 agent_ratings.append(int('0'))  \n",
    "    else:\n",
    "        print(\"error in response\")\n",
    "\n"
   ]
  },
  {
   "cell_type": "code",
   "execution_count": 15,
   "metadata": {},
   "outputs": [],
   "source": [
    "# Defining a dataframe.\n",
    "\n",
    "df=pd.DataFrame()"
   ]
  },
  {
   "cell_type": "code",
   "execution_count": 23,
   "metadata": {},
   "outputs": [
    {
     "ename": "ValueError",
     "evalue": "Length of values does not match length of index",
     "output_type": "error",
     "traceback": [
      "\u001b[1;31m---------------------------------------------------------------------------\u001b[0m",
      "\u001b[1;31mValueError\u001b[0m                                Traceback (most recent call last)",
      "\u001b[1;32m<ipython-input-23-63b92a1de3e6>\u001b[0m in \u001b[0;36m<module>\u001b[1;34m\u001b[0m\n\u001b[0;32m      7\u001b[0m \u001b[0mdf\u001b[0m\u001b[1;33m[\u001b[0m\u001b[1;34m'area_insqft'\u001b[0m\u001b[1;33m]\u001b[0m \u001b[1;33m=\u001b[0m \u001b[0marea_in_sqft\u001b[0m\u001b[1;33m\u001b[0m\u001b[1;33m\u001b[0m\u001b[0m\n\u001b[0;32m      8\u001b[0m \u001b[0mdf\u001b[0m\u001b[1;33m[\u001b[0m\u001b[1;34m'building_status'\u001b[0m\u001b[1;33m]\u001b[0m \u001b[1;33m=\u001b[0m \u001b[0mbuilding_status\u001b[0m\u001b[1;33m\u001b[0m\u001b[1;33m\u001b[0m\u001b[0m\n\u001b[1;32m----> 9\u001b[1;33m \u001b[0mdf\u001b[0m\u001b[1;33m[\u001b[0m\u001b[1;34m'agent_rating'\u001b[0m\u001b[1;33m]\u001b[0m \u001b[1;33m=\u001b[0m \u001b[0magent_ratings\u001b[0m\u001b[1;33m\u001b[0m\u001b[1;33m\u001b[0m\u001b[0m\n\u001b[0m",
      "\u001b[1;32m~\\Anaconda3\\lib\\site-packages\\pandas\\core\\frame.py\u001b[0m in \u001b[0;36m__setitem__\u001b[1;34m(self, key, value)\u001b[0m\n\u001b[0;32m   2936\u001b[0m         \u001b[1;32melse\u001b[0m\u001b[1;33m:\u001b[0m\u001b[1;33m\u001b[0m\u001b[1;33m\u001b[0m\u001b[0m\n\u001b[0;32m   2937\u001b[0m             \u001b[1;31m# set column\u001b[0m\u001b[1;33m\u001b[0m\u001b[1;33m\u001b[0m\u001b[1;33m\u001b[0m\u001b[0m\n\u001b[1;32m-> 2938\u001b[1;33m             \u001b[0mself\u001b[0m\u001b[1;33m.\u001b[0m\u001b[0m_set_item\u001b[0m\u001b[1;33m(\u001b[0m\u001b[0mkey\u001b[0m\u001b[1;33m,\u001b[0m \u001b[0mvalue\u001b[0m\u001b[1;33m)\u001b[0m\u001b[1;33m\u001b[0m\u001b[1;33m\u001b[0m\u001b[0m\n\u001b[0m\u001b[0;32m   2939\u001b[0m \u001b[1;33m\u001b[0m\u001b[0m\n\u001b[0;32m   2940\u001b[0m     \u001b[1;32mdef\u001b[0m \u001b[0m_setitem_slice\u001b[0m\u001b[1;33m(\u001b[0m\u001b[0mself\u001b[0m\u001b[1;33m,\u001b[0m \u001b[0mkey\u001b[0m\u001b[1;33m,\u001b[0m \u001b[0mvalue\u001b[0m\u001b[1;33m)\u001b[0m\u001b[1;33m:\u001b[0m\u001b[1;33m\u001b[0m\u001b[1;33m\u001b[0m\u001b[0m\n",
      "\u001b[1;32m~\\Anaconda3\\lib\\site-packages\\pandas\\core\\frame.py\u001b[0m in \u001b[0;36m_set_item\u001b[1;34m(self, key, value)\u001b[0m\n\u001b[0;32m   2998\u001b[0m \u001b[1;33m\u001b[0m\u001b[0m\n\u001b[0;32m   2999\u001b[0m         \u001b[0mself\u001b[0m\u001b[1;33m.\u001b[0m\u001b[0m_ensure_valid_index\u001b[0m\u001b[1;33m(\u001b[0m\u001b[0mvalue\u001b[0m\u001b[1;33m)\u001b[0m\u001b[1;33m\u001b[0m\u001b[1;33m\u001b[0m\u001b[0m\n\u001b[1;32m-> 3000\u001b[1;33m         \u001b[0mvalue\u001b[0m \u001b[1;33m=\u001b[0m \u001b[0mself\u001b[0m\u001b[1;33m.\u001b[0m\u001b[0m_sanitize_column\u001b[0m\u001b[1;33m(\u001b[0m\u001b[0mkey\u001b[0m\u001b[1;33m,\u001b[0m \u001b[0mvalue\u001b[0m\u001b[1;33m)\u001b[0m\u001b[1;33m\u001b[0m\u001b[1;33m\u001b[0m\u001b[0m\n\u001b[0m\u001b[0;32m   3001\u001b[0m         \u001b[0mNDFrame\u001b[0m\u001b[1;33m.\u001b[0m\u001b[0m_set_item\u001b[0m\u001b[1;33m(\u001b[0m\u001b[0mself\u001b[0m\u001b[1;33m,\u001b[0m \u001b[0mkey\u001b[0m\u001b[1;33m,\u001b[0m \u001b[0mvalue\u001b[0m\u001b[1;33m)\u001b[0m\u001b[1;33m\u001b[0m\u001b[1;33m\u001b[0m\u001b[0m\n\u001b[0;32m   3002\u001b[0m \u001b[1;33m\u001b[0m\u001b[0m\n",
      "\u001b[1;32m~\\Anaconda3\\lib\\site-packages\\pandas\\core\\frame.py\u001b[0m in \u001b[0;36m_sanitize_column\u001b[1;34m(self, key, value, broadcast)\u001b[0m\n\u001b[0;32m   3634\u001b[0m \u001b[1;33m\u001b[0m\u001b[0m\n\u001b[0;32m   3635\u001b[0m             \u001b[1;31m# turn me into an ndarray\u001b[0m\u001b[1;33m\u001b[0m\u001b[1;33m\u001b[0m\u001b[1;33m\u001b[0m\u001b[0m\n\u001b[1;32m-> 3636\u001b[1;33m             \u001b[0mvalue\u001b[0m \u001b[1;33m=\u001b[0m \u001b[0msanitize_index\u001b[0m\u001b[1;33m(\u001b[0m\u001b[0mvalue\u001b[0m\u001b[1;33m,\u001b[0m \u001b[0mself\u001b[0m\u001b[1;33m.\u001b[0m\u001b[0mindex\u001b[0m\u001b[1;33m,\u001b[0m \u001b[0mcopy\u001b[0m\u001b[1;33m=\u001b[0m\u001b[1;32mFalse\u001b[0m\u001b[1;33m)\u001b[0m\u001b[1;33m\u001b[0m\u001b[1;33m\u001b[0m\u001b[0m\n\u001b[0m\u001b[0;32m   3637\u001b[0m             \u001b[1;32mif\u001b[0m \u001b[1;32mnot\u001b[0m \u001b[0misinstance\u001b[0m\u001b[1;33m(\u001b[0m\u001b[0mvalue\u001b[0m\u001b[1;33m,\u001b[0m \u001b[1;33m(\u001b[0m\u001b[0mnp\u001b[0m\u001b[1;33m.\u001b[0m\u001b[0mndarray\u001b[0m\u001b[1;33m,\u001b[0m \u001b[0mIndex\u001b[0m\u001b[1;33m)\u001b[0m\u001b[1;33m)\u001b[0m\u001b[1;33m:\u001b[0m\u001b[1;33m\u001b[0m\u001b[1;33m\u001b[0m\u001b[0m\n\u001b[0;32m   3638\u001b[0m                 \u001b[1;32mif\u001b[0m \u001b[0misinstance\u001b[0m\u001b[1;33m(\u001b[0m\u001b[0mvalue\u001b[0m\u001b[1;33m,\u001b[0m \u001b[0mlist\u001b[0m\u001b[1;33m)\u001b[0m \u001b[1;32mand\u001b[0m \u001b[0mlen\u001b[0m\u001b[1;33m(\u001b[0m\u001b[0mvalue\u001b[0m\u001b[1;33m)\u001b[0m \u001b[1;33m>\u001b[0m \u001b[1;36m0\u001b[0m\u001b[1;33m:\u001b[0m\u001b[1;33m\u001b[0m\u001b[1;33m\u001b[0m\u001b[0m\n",
      "\u001b[1;32m~\\Anaconda3\\lib\\site-packages\\pandas\\core\\internals\\construction.py\u001b[0m in \u001b[0;36msanitize_index\u001b[1;34m(data, index, copy)\u001b[0m\n\u001b[0;32m    609\u001b[0m \u001b[1;33m\u001b[0m\u001b[0m\n\u001b[0;32m    610\u001b[0m     \u001b[1;32mif\u001b[0m \u001b[0mlen\u001b[0m\u001b[1;33m(\u001b[0m\u001b[0mdata\u001b[0m\u001b[1;33m)\u001b[0m \u001b[1;33m!=\u001b[0m \u001b[0mlen\u001b[0m\u001b[1;33m(\u001b[0m\u001b[0mindex\u001b[0m\u001b[1;33m)\u001b[0m\u001b[1;33m:\u001b[0m\u001b[1;33m\u001b[0m\u001b[1;33m\u001b[0m\u001b[0m\n\u001b[1;32m--> 611\u001b[1;33m         \u001b[1;32mraise\u001b[0m \u001b[0mValueError\u001b[0m\u001b[1;33m(\u001b[0m\u001b[1;34m\"Length of values does not match length of index\"\u001b[0m\u001b[1;33m)\u001b[0m\u001b[1;33m\u001b[0m\u001b[1;33m\u001b[0m\u001b[0m\n\u001b[0m\u001b[0;32m    612\u001b[0m \u001b[1;33m\u001b[0m\u001b[0m\n\u001b[0;32m    613\u001b[0m     \u001b[1;32mif\u001b[0m \u001b[0misinstance\u001b[0m\u001b[1;33m(\u001b[0m\u001b[0mdata\u001b[0m\u001b[1;33m,\u001b[0m \u001b[0mABCIndexClass\u001b[0m\u001b[1;33m)\u001b[0m \u001b[1;32mand\u001b[0m \u001b[1;32mnot\u001b[0m \u001b[0mcopy\u001b[0m\u001b[1;33m:\u001b[0m\u001b[1;33m\u001b[0m\u001b[1;33m\u001b[0m\u001b[0m\n",
      "\u001b[1;31mValueError\u001b[0m: Length of values does not match length of index"
     ]
    }
   ],
   "source": [
    "# Returns data in form a dataframe with columns of specified names containing the assigned values from the list.\n",
    "\n",
    "df['title'] = title \n",
    "df['location'] = location\n",
    "df['price(L)'] = price\n",
    "df['rate_persqft'] = price_per_sqft\n",
    "df['area_insqft'] = area_in_sqft\n",
    "df['building_status'] = building_status\n",
    "df['agent_rating'] = agent_ratings"
   ]
  },
  {
   "cell_type": "code",
   "execution_count": 42,
   "metadata": {},
   "outputs": [],
   "source": [
    "\n",
    "# Returns data in form a dataframe with columns of specified names containing the assigned values from the list.\n",
    "\n",
    "df['title']=title \n",
    "df['location']=location\n",
    "df['price_lakhs']=price\n",
    "df['rate_persqft']=price_per_sqft\n",
    "df['area_insqft']=area_in_sqft\n",
    "df['building_status']=building_status\n"
   ]
  },
  {
   "cell_type": "code",
   "execution_count": 2,
   "metadata": {},
   "outputs": [],
   "source": [
    "n_pages = 0\n",
    "agent_ratings=[]\n",
    "for page in [1]:\n",
    "    n_pages += 1\n",
    "    url = 'http://www.makaan.com/hyderabad-residential-property/buy-property-in-hyderabad-city?budget=,'+'&page='+str(page)\n",
    "    r = requests.get(url)\n",
    "    if (r.status_code == 200):\n",
    "        page_html = bs4.BeautifulSoup(r.text, 'html.parser')\n",
    "        house_containers = page_html.find_all(\"li\",class_=\"cardholder\")\n",
    "        for i,data in enumerate(house_containers):\n",
    "            agent_rating_ = data.find_all('div', class_=\"rating\")\n",
    "            if len(agent_rating_)==1:\n",
    "                for j in agent_rating_:\n",
    "                    d=j.text\n",
    "                    agent_ratings.append(d)\n",
    "            else:\n",
    "                 agent_ratings.append(int('0'))  \n",
    "    else:\n",
    "        print(\"error in response\")\n"
   ]
  },
  {
   "cell_type": "code",
   "execution_count": 3,
   "metadata": {},
   "outputs": [
    {
     "ename": "NameError",
     "evalue": "name 'df' is not defined",
     "output_type": "error",
     "traceback": [
      "\u001b[1;31m---------------------------------------------------------------------------\u001b[0m",
      "\u001b[1;31mNameError\u001b[0m                                 Traceback (most recent call last)",
      "\u001b[1;32m<ipython-input-3-32b17fdd72d9>\u001b[0m in \u001b[0;36m<module>\u001b[1;34m\u001b[0m\n\u001b[1;32m----> 1\u001b[1;33m \u001b[0md\u001b[0m\u001b[1;33m=\u001b[0m\u001b[0mdf\u001b[0m\u001b[1;33m.\u001b[0m\u001b[0mto_csv\u001b[0m\u001b[1;33m(\u001b[0m\u001b[1;34m'projectfinal.csv'\u001b[0m\u001b[1;33m)\u001b[0m\u001b[1;33m\u001b[0m\u001b[1;33m\u001b[0m\u001b[0m\n\u001b[0m",
      "\u001b[1;31mNameError\u001b[0m: name 'df' is not defined"
     ]
    }
   ],
   "source": [
    "d=df.to_csv('projectfinal.csv')"
   ]
  },
  {
   "cell_type": "markdown",
   "metadata": {},
   "source": [
    "# loading the data frame"
   ]
  },
  {
   "cell_type": "code",
   "execution_count": 129,
   "metadata": {},
   "outputs": [
    {
     "data": {
      "text/html": [
       "<div>\n",
       "<style scoped>\n",
       "    .dataframe tbody tr th:only-of-type {\n",
       "        vertical-align: middle;\n",
       "    }\n",
       "\n",
       "    .dataframe tbody tr th {\n",
       "        vertical-align: top;\n",
       "    }\n",
       "\n",
       "    .dataframe thead th {\n",
       "        text-align: right;\n",
       "    }\n",
       "</style>\n",
       "<table border=\"1\" class=\"dataframe\">\n",
       "  <thead>\n",
       "    <tr style=\"text-align: right;\">\n",
       "      <th></th>\n",
       "      <th>title</th>\n",
       "      <th>location</th>\n",
       "      <th>price(L)</th>\n",
       "      <th>rate_persqft</th>\n",
       "      <th>area_insqft</th>\n",
       "      <th>building_status</th>\n",
       "      <th>agent_rating</th>\n",
       "    </tr>\n",
       "  </thead>\n",
       "  <tbody>\n",
       "    <tr>\n",
       "      <th>0</th>\n",
       "      <td>Residential Plot</td>\n",
       "      <td>Maheshwaram</td>\n",
       "      <td>45.00</td>\n",
       "      <td>1111</td>\n",
       "      <td>4050</td>\n",
       "      <td>New</td>\n",
       "      <td>4.6</td>\n",
       "    </tr>\n",
       "    <tr>\n",
       "      <th>1</th>\n",
       "      <td>Residential Plot</td>\n",
       "      <td>Kondakal</td>\n",
       "      <td>34.00</td>\n",
       "      <td>2361</td>\n",
       "      <td>1440</td>\n",
       "      <td>New</td>\n",
       "      <td>3.7</td>\n",
       "    </tr>\n",
       "    <tr>\n",
       "      <th>2</th>\n",
       "      <td>Residential Plot</td>\n",
       "      <td>Bibinagar</td>\n",
       "      <td>14.19</td>\n",
       "      <td>944</td>\n",
       "      <td>1503</td>\n",
       "      <td>New</td>\n",
       "      <td>4.9</td>\n",
       "    </tr>\n",
       "    <tr>\n",
       "      <th>3</th>\n",
       "      <td>Residential Plot</td>\n",
       "      <td>Gachibowli</td>\n",
       "      <td>330.00</td>\n",
       "      <td>3333</td>\n",
       "      <td>9900</td>\n",
       "      <td>New</td>\n",
       "      <td>0.0</td>\n",
       "    </tr>\n",
       "    <tr>\n",
       "      <th>4</th>\n",
       "      <td>Residential Plot</td>\n",
       "      <td>Shadnagar</td>\n",
       "      <td>6.72</td>\n",
       "      <td>466</td>\n",
       "      <td>1440</td>\n",
       "      <td>New</td>\n",
       "      <td>4.7</td>\n",
       "    </tr>\n",
       "    <tr>\n",
       "      <th>...</th>\n",
       "      <td>...</td>\n",
       "      <td>...</td>\n",
       "      <td>...</td>\n",
       "      <td>...</td>\n",
       "      <td>...</td>\n",
       "      <td>...</td>\n",
       "      <td>...</td>\n",
       "    </tr>\n",
       "    <tr>\n",
       "      <th>40255</th>\n",
       "      <td>2 BHK Apartment</td>\n",
       "      <td>Chandanagar</td>\n",
       "      <td>47.00</td>\n",
       "      <td>4563</td>\n",
       "      <td>1030</td>\n",
       "      <td>Ready to move</td>\n",
       "      <td>0.0</td>\n",
       "    </tr>\n",
       "    <tr>\n",
       "      <th>40256</th>\n",
       "      <td>2 BHK Independent House</td>\n",
       "      <td>Kundanpally</td>\n",
       "      <td>25.74</td>\n",
       "      <td>3961</td>\n",
       "      <td>650</td>\n",
       "      <td>Ready to move</td>\n",
       "      <td>0.0</td>\n",
       "    </tr>\n",
       "    <tr>\n",
       "      <th>40257</th>\n",
       "      <td>3 BHK Apartment</td>\n",
       "      <td>Peeramcheru</td>\n",
       "      <td>81.00</td>\n",
       "      <td>4500</td>\n",
       "      <td>1800</td>\n",
       "      <td>Ready to move</td>\n",
       "      <td>0.0</td>\n",
       "    </tr>\n",
       "    <tr>\n",
       "      <th>40258</th>\n",
       "      <td>2 BHK Apartment</td>\n",
       "      <td>Nizampet</td>\n",
       "      <td>34.50</td>\n",
       "      <td>3833</td>\n",
       "      <td>900</td>\n",
       "      <td>Under Construction</td>\n",
       "      <td>0.0</td>\n",
       "    </tr>\n",
       "    <tr>\n",
       "      <th>40259</th>\n",
       "      <td>2 BHK Apartment</td>\n",
       "      <td>Chandanagar</td>\n",
       "      <td>40.00</td>\n",
       "      <td>4444</td>\n",
       "      <td>900</td>\n",
       "      <td>Under Construction</td>\n",
       "      <td>0.0</td>\n",
       "    </tr>\n",
       "  </tbody>\n",
       "</table>\n",
       "<p>40260 rows × 7 columns</p>\n",
       "</div>"
      ],
      "text/plain": [
       "                         title     location  price(L)  rate_persqft  \\\n",
       "0             Residential Plot  Maheshwaram     45.00          1111   \n",
       "1             Residential Plot     Kondakal     34.00          2361   \n",
       "2             Residential Plot    Bibinagar     14.19           944   \n",
       "3             Residential Plot   Gachibowli    330.00          3333   \n",
       "4             Residential Plot    Shadnagar      6.72           466   \n",
       "...                        ...          ...       ...           ...   \n",
       "40255          2 BHK Apartment  Chandanagar     47.00          4563   \n",
       "40256  2 BHK Independent House  Kundanpally     25.74          3961   \n",
       "40257          3 BHK Apartment  Peeramcheru     81.00          4500   \n",
       "40258          2 BHK Apartment     Nizampet     34.50          3833   \n",
       "40259          2 BHK Apartment  Chandanagar     40.00          4444   \n",
       "\n",
       "       area_insqft     building_status  agent_rating  \n",
       "0             4050                 New           4.6  \n",
       "1             1440                 New           3.7  \n",
       "2             1503                 New           4.9  \n",
       "3             9900                 New           0.0  \n",
       "4             1440                 New           4.7  \n",
       "...            ...                 ...           ...  \n",
       "40255         1030       Ready to move           0.0  \n",
       "40256          650       Ready to move           0.0  \n",
       "40257         1800       Ready to move           0.0  \n",
       "40258          900  Under Construction           0.0  \n",
       "40259          900  Under Construction           0.0  \n",
       "\n",
       "[40260 rows x 7 columns]"
      ]
     },
     "execution_count": 129,
     "metadata": {},
     "output_type": "execute_result"
    }
   ],
   "source": [
    "df=pd.read_csv(\"projectfinal1.csv\", index_col='Unnamed: 0')\n",
    "df"
   ]
  },
  {
   "cell_type": "code",
   "execution_count": 130,
   "metadata": {},
   "outputs": [
    {
     "data": {
      "text/html": [
       "<div>\n",
       "<style scoped>\n",
       "    .dataframe tbody tr th:only-of-type {\n",
       "        vertical-align: middle;\n",
       "    }\n",
       "\n",
       "    .dataframe tbody tr th {\n",
       "        vertical-align: top;\n",
       "    }\n",
       "\n",
       "    .dataframe thead th {\n",
       "        text-align: right;\n",
       "    }\n",
       "</style>\n",
       "<table border=\"1\" class=\"dataframe\">\n",
       "  <thead>\n",
       "    <tr style=\"text-align: right;\">\n",
       "      <th></th>\n",
       "      <th>price(L)</th>\n",
       "      <th>rate_persqft</th>\n",
       "      <th>area_insqft</th>\n",
       "      <th>agent_rating</th>\n",
       "    </tr>\n",
       "  </thead>\n",
       "  <tbody>\n",
       "    <tr>\n",
       "      <th>count</th>\n",
       "      <td>40260.000000</td>\n",
       "      <td>40260.000000</td>\n",
       "      <td>40260.000000</td>\n",
       "      <td>40260.000000</td>\n",
       "    </tr>\n",
       "    <tr>\n",
       "      <th>mean</th>\n",
       "      <td>65.331670</td>\n",
       "      <td>3297.212072</td>\n",
       "      <td>2360.068728</td>\n",
       "      <td>3.574724</td>\n",
       "    </tr>\n",
       "    <tr>\n",
       "      <th>std</th>\n",
       "      <td>126.247236</td>\n",
       "      <td>3850.078324</td>\n",
       "      <td>4190.331350</td>\n",
       "      <td>1.953369</td>\n",
       "    </tr>\n",
       "    <tr>\n",
       "      <th>min</th>\n",
       "      <td>0.000000</td>\n",
       "      <td>100.000000</td>\n",
       "      <td>100.000000</td>\n",
       "      <td>0.000000</td>\n",
       "    </tr>\n",
       "    <tr>\n",
       "      <th>25%</th>\n",
       "      <td>20.000000</td>\n",
       "      <td>1018.000000</td>\n",
       "      <td>1290.000000</td>\n",
       "      <td>3.400000</td>\n",
       "    </tr>\n",
       "    <tr>\n",
       "      <th>50%</th>\n",
       "      <td>37.170000</td>\n",
       "      <td>2222.000000</td>\n",
       "      <td>1674.000000</td>\n",
       "      <td>4.600000</td>\n",
       "    </tr>\n",
       "    <tr>\n",
       "      <th>75%</th>\n",
       "      <td>78.630000</td>\n",
       "      <td>4800.000000</td>\n",
       "      <td>2250.000000</td>\n",
       "      <td>4.900000</td>\n",
       "    </tr>\n",
       "    <tr>\n",
       "      <th>max</th>\n",
       "      <td>7000.000000</td>\n",
       "      <td>172541.000000</td>\n",
       "      <td>215278.000000</td>\n",
       "      <td>5.000000</td>\n",
       "    </tr>\n",
       "  </tbody>\n",
       "</table>\n",
       "</div>"
      ],
      "text/plain": [
       "           price(L)   rate_persqft    area_insqft  agent_rating\n",
       "count  40260.000000   40260.000000   40260.000000  40260.000000\n",
       "mean      65.331670    3297.212072    2360.068728      3.574724\n",
       "std      126.247236    3850.078324    4190.331350      1.953369\n",
       "min        0.000000     100.000000     100.000000      0.000000\n",
       "25%       20.000000    1018.000000    1290.000000      3.400000\n",
       "50%       37.170000    2222.000000    1674.000000      4.600000\n",
       "75%       78.630000    4800.000000    2250.000000      4.900000\n",
       "max     7000.000000  172541.000000  215278.000000      5.000000"
      ]
     },
     "execution_count": 130,
     "metadata": {},
     "output_type": "execute_result"
    }
   ],
   "source": [
    "df.shape\n",
    "unclean_df = df.copy()\n",
    "unclean_df.describe()"
   ]
  },
  {
   "cell_type": "markdown",
   "metadata": {},
   "source": [
    "**Observations from unclean dataset:**\n",
    "\n",
    "price(L):\n",
    "\n",
    "* mean of prices is 65.33 L\n",
    "* maximum price is 7000 L i.e, 70 cr.\n",
    "* minimum price is 0\n",
    "* 25 percentile is 20 L i.e, 25% of prices lie below 20 L.\n",
    "* 50 percentile is 37.17 L i.e, 50% of prices lie below 37.17 L.\n",
    "* 75 percentile is 78.63 L i.e, 75% of prices lie below 78.63 L.\n",
    "* standard deviation(std) is 126.24\n",
    "\n",
    "rate_persqft:\n",
    "\n",
    "* mean ratepersqft is 3297.21/-\n",
    "* maximum ratepersqft is 172541/-\n",
    "* minimum ratepersqft is 100/-\n",
    "* 25 percentile is 1018 i.e, 25% of ratepersqft's lie below 1018/-\n",
    "* 50 percentile is 2222 i.e, 50% of ratepersqft's lie below 2222/-\n",
    "* 75 percentile is 4800 i.e, 75% of ratepersqft's lie below 4800/-\n",
    "* standard deviation(std) is 3850.07\n",
    "\n",
    "area_insqft:\n",
    "\n",
    "* mean area is 2360.06 sqft\n",
    "* maximum area is 215278 sqft.\n",
    "* minimum area is 100 sqft.\n",
    "* 25 percentile is 1290 sqft i.e, 25% of area's lie below 1290 sqft.\n",
    "* 50 percentile is 1674 sqft i.e, 50% of area's lie below 1674 sqft.\n",
    "* 75 percentile is 2250 sqft i.e, 75% of area's lie below 2250 sqft.\n",
    "* standard deviation(std) is 4190.33\n",
    "\n",
    "agent_rating:\n",
    "\n",
    "* mean of rating is 3.5\n",
    "* maximum rating is 5.0\n",
    "* minimum rating is 0.0\n",
    "* 25 percentile is 3.4 i.e, 25% of rating's lie below 3.4\n",
    "* 50 percentile is 4.6 i.e, 50% of rating's lie below 4.6\n",
    "* 75 percentile is 4.9 i.e, 75% of rating's lie below 4.9\n",
    "* standard deviation(std) is 1.95"
   ]
  },
  {
   "cell_type": "code",
   "execution_count": 131,
   "metadata": {},
   "outputs": [
    {
     "data": {
      "text/plain": [
       "title               object\n",
       "location            object\n",
       "price(L)           float64\n",
       "rate_persqft         int64\n",
       "area_insqft          int64\n",
       "building_status     object\n",
       "agent_rating       float64\n",
       "dtype: object"
      ]
     },
     "execution_count": 131,
     "metadata": {},
     "output_type": "execute_result"
    }
   ],
   "source": [
    "df.dtypes"
   ]
  },
  {
   "cell_type": "markdown",
   "metadata": {},
   "source": [
    "observations: \n",
    "1. **title** : Defines the title name of the property. datatype is string\n",
    "2. **location** : Defines about the locality(area) of the property. datatype is string\n",
    "3. **price(L)** : Defines the price of a property in lakhs. datatype is float.\n",
    "4. **rate_persqft** : Defines the rate per unit sqft of property. datatype is int.\n",
    "5. **area_insqft** : Defines the total area of property. datatype is int.\n",
    "6. **building_status** : Define about the current status of builiding. datatype is string\n",
    "7. **agent_rating** : Defines about the rating of agent given by the customers. datatype is float."
   ]
  },
  {
   "cell_type": "markdown",
   "metadata": {},
   "source": [
    "# 2. Cleaning Data "
   ]
  },
  {
   "cell_type": "code",
   "execution_count": 132,
   "metadata": {},
   "outputs": [],
   "source": [
    "# drop the duplicate entries in dataset\n",
    "df = df.drop_duplicates()\n",
    "# as the index will be changed after dropping rows\n",
    "df = df.reset_index()\n"
   ]
  },
  {
   "cell_type": "code",
   "execution_count": 133,
   "metadata": {},
   "outputs": [],
   "source": [
    "# droping index column created due to reset_index()\n",
    "df = df.drop(columns=['index'])"
   ]
  },
  {
   "cell_type": "code",
   "execution_count": 134,
   "metadata": {},
   "outputs": [
    {
     "data": {
      "text/plain": [
       "(25715, 7)"
      ]
     },
     "execution_count": 134,
     "metadata": {},
     "output_type": "execute_result"
    }
   ],
   "source": [
    "df.shape"
   ]
  },
  {
   "cell_type": "markdown",
   "metadata": {},
   "source": [
    "observations:\n",
    "* Before deleting duplicate entries total datapoints were 40260\n",
    "* After deleting duplicate entries total datapoints reduced to 25715\n",
    "* That is we have 14545 (40260-25715) duplicate entries."
   ]
  },
  {
   "cell_type": "code",
   "execution_count": 135,
   "metadata": {},
   "outputs": [
    {
     "data": {
      "text/plain": [
       "title              0\n",
       "location           0\n",
       "price(L)           0\n",
       "rate_persqft       0\n",
       "area_insqft        0\n",
       "building_status    0\n",
       "agent_rating       0\n",
       "dtype: int64"
      ]
     },
     "execution_count": 135,
     "metadata": {},
     "output_type": "execute_result"
    }
   ],
   "source": [
    "# checking for null values\n",
    "df.isnull().sum()"
   ]
  },
  {
   "cell_type": "markdown",
   "metadata": {},
   "source": [
    "No Null values"
   ]
  },
  {
   "cell_type": "code",
   "execution_count": 136,
   "metadata": {},
   "outputs": [
    {
     "data": {
      "text/html": [
       "<div>\n",
       "<style scoped>\n",
       "    .dataframe tbody tr th:only-of-type {\n",
       "        vertical-align: middle;\n",
       "    }\n",
       "\n",
       "    .dataframe tbody tr th {\n",
       "        vertical-align: top;\n",
       "    }\n",
       "\n",
       "    .dataframe thead th {\n",
       "        text-align: right;\n",
       "    }\n",
       "</style>\n",
       "<table border=\"1\" class=\"dataframe\">\n",
       "  <thead>\n",
       "    <tr style=\"text-align: right;\">\n",
       "      <th></th>\n",
       "      <th>price(L)</th>\n",
       "      <th>rate_persqft</th>\n",
       "      <th>area_insqft</th>\n",
       "      <th>agent_rating</th>\n",
       "    </tr>\n",
       "  </thead>\n",
       "  <tbody>\n",
       "    <tr>\n",
       "      <th>count</th>\n",
       "      <td>25715.000000</td>\n",
       "      <td>25715.000000</td>\n",
       "      <td>25715.000000</td>\n",
       "      <td>25715.000000</td>\n",
       "    </tr>\n",
       "    <tr>\n",
       "      <th>mean</th>\n",
       "      <td>68.963354</td>\n",
       "      <td>3491.056621</td>\n",
       "      <td>2328.315497</td>\n",
       "      <td>3.363387</td>\n",
       "    </tr>\n",
       "    <tr>\n",
       "      <th>std</th>\n",
       "      <td>140.980749</td>\n",
       "      <td>4218.740006</td>\n",
       "      <td>4836.964889</td>\n",
       "      <td>2.017042</td>\n",
       "    </tr>\n",
       "    <tr>\n",
       "      <th>min</th>\n",
       "      <td>0.000000</td>\n",
       "      <td>100.000000</td>\n",
       "      <td>100.000000</td>\n",
       "      <td>0.000000</td>\n",
       "    </tr>\n",
       "    <tr>\n",
       "      <th>25%</th>\n",
       "      <td>20.000000</td>\n",
       "      <td>1111.000000</td>\n",
       "      <td>1250.000000</td>\n",
       "      <td>0.000000</td>\n",
       "    </tr>\n",
       "    <tr>\n",
       "      <th>50%</th>\n",
       "      <td>38.980000</td>\n",
       "      <td>2556.000000</td>\n",
       "      <td>1645.000000</td>\n",
       "      <td>4.500000</td>\n",
       "    </tr>\n",
       "    <tr>\n",
       "      <th>75%</th>\n",
       "      <td>76.000000</td>\n",
       "      <td>4962.000000</td>\n",
       "      <td>2250.000000</td>\n",
       "      <td>4.800000</td>\n",
       "    </tr>\n",
       "    <tr>\n",
       "      <th>max</th>\n",
       "      <td>7000.000000</td>\n",
       "      <td>172541.000000</td>\n",
       "      <td>215278.000000</td>\n",
       "      <td>5.000000</td>\n",
       "    </tr>\n",
       "  </tbody>\n",
       "</table>\n",
       "</div>"
      ],
      "text/plain": [
       "           price(L)   rate_persqft    area_insqft  agent_rating\n",
       "count  25715.000000   25715.000000   25715.000000  25715.000000\n",
       "mean      68.963354    3491.056621    2328.315497      3.363387\n",
       "std      140.980749    4218.740006    4836.964889      2.017042\n",
       "min        0.000000     100.000000     100.000000      0.000000\n",
       "25%       20.000000    1111.000000    1250.000000      0.000000\n",
       "50%       38.980000    2556.000000    1645.000000      4.500000\n",
       "75%       76.000000    4962.000000    2250.000000      4.800000\n",
       "max     7000.000000  172541.000000  215278.000000      5.000000"
      ]
     },
     "execution_count": 136,
     "metadata": {},
     "output_type": "execute_result"
    }
   ],
   "source": [
    "df.describe()"
   ]
  },
  {
   "cell_type": "markdown",
   "metadata": {},
   "source": [
    "from above we can see that minimum value is 0 which is not possible. Lets investigate"
   ]
  },
  {
   "cell_type": "code",
   "execution_count": 137,
   "metadata": {},
   "outputs": [
    {
     "data": {
      "text/plain": [
       "[7860, 9992, 13947, 14320]"
      ]
     },
     "execution_count": 137,
     "metadata": {},
     "output_type": "execute_result"
    }
   ],
   "source": [
    "index_list = df[df['price(L)']==0].index.tolist() \n",
    "index_list"
   ]
  },
  {
   "cell_type": "markdown",
   "metadata": {},
   "source": [
    "lets calculate Price for the rows from given 'rate_persqft' and 'area_insqft' values"
   ]
  },
  {
   "cell_type": "code",
   "execution_count": 138,
   "metadata": {},
   "outputs": [],
   "source": [
    "price1=[] \n",
    "c=0\n",
    "for i in (df['price(L)']):\n",
    "    if i == 0:\n",
    "        a=df.loc[index_list[c],'rate_persqft'] # Returns the value of ratepersqft at nth location.\n",
    "        b=df.loc[index_list[c],'area_insqft'] # Returns value of area at nth location.\n",
    "        m=np.round(float((a*b)/100000),2) # multiplies area and ratepersqft and coverts type of output to float.\n",
    "        df.loc[index_list[c], 'price(L)'] = m # Appends the obtained value from mulitplication to nth location.\n",
    "        c+=1\n",
    "        price1.append(m)"
   ]
  },
  {
   "cell_type": "code",
   "execution_count": 139,
   "metadata": {},
   "outputs": [
    {
     "data": {
      "text/plain": [
       "[0.45, 0.5, 0.32, 0.16]"
      ]
     },
     "execution_count": 139,
     "metadata": {},
     "output_type": "execute_result"
    }
   ],
   "source": [
    "price1"
   ]
  },
  {
   "cell_type": "code",
   "execution_count": 140,
   "metadata": {},
   "outputs": [
    {
     "data": {
      "text/html": [
       "<div>\n",
       "<style scoped>\n",
       "    .dataframe tbody tr th:only-of-type {\n",
       "        vertical-align: middle;\n",
       "    }\n",
       "\n",
       "    .dataframe tbody tr th {\n",
       "        vertical-align: top;\n",
       "    }\n",
       "\n",
       "    .dataframe thead th {\n",
       "        text-align: right;\n",
       "    }\n",
       "</style>\n",
       "<table border=\"1\" class=\"dataframe\">\n",
       "  <thead>\n",
       "    <tr style=\"text-align: right;\">\n",
       "      <th></th>\n",
       "      <th>title</th>\n",
       "      <th>location</th>\n",
       "      <th>price(L)</th>\n",
       "      <th>rate_persqft</th>\n",
       "      <th>area_insqft</th>\n",
       "      <th>building_status</th>\n",
       "      <th>agent_rating</th>\n",
       "    </tr>\n",
       "  </thead>\n",
       "  <tbody>\n",
       "  </tbody>\n",
       "</table>\n",
       "</div>"
      ],
      "text/plain": [
       "Empty DataFrame\n",
       "Columns: [title, location, price(L), rate_persqft, area_insqft, building_status, agent_rating]\n",
       "Index: []"
      ]
     },
     "execution_count": 140,
     "metadata": {},
     "output_type": "execute_result"
    }
   ],
   "source": [
    "df[df['price(L)']==0]"
   ]
  },
  {
   "cell_type": "code",
   "execution_count": 141,
   "metadata": {},
   "outputs": [
    {
     "data": {
      "text/html": [
       "<div>\n",
       "<style scoped>\n",
       "    .dataframe tbody tr th:only-of-type {\n",
       "        vertical-align: middle;\n",
       "    }\n",
       "\n",
       "    .dataframe tbody tr th {\n",
       "        vertical-align: top;\n",
       "    }\n",
       "\n",
       "    .dataframe thead th {\n",
       "        text-align: right;\n",
       "    }\n",
       "</style>\n",
       "<table border=\"1\" class=\"dataframe\">\n",
       "  <thead>\n",
       "    <tr style=\"text-align: right;\">\n",
       "      <th></th>\n",
       "      <th>title</th>\n",
       "      <th>location</th>\n",
       "      <th>price(L)</th>\n",
       "      <th>rate_persqft</th>\n",
       "      <th>area_insqft</th>\n",
       "      <th>building_status</th>\n",
       "      <th>agent_rating</th>\n",
       "    </tr>\n",
       "  </thead>\n",
       "  <tbody>\n",
       "    <tr>\n",
       "      <th>7860</th>\n",
       "      <td>Residential Plot</td>\n",
       "      <td>Vanasthalipuram</td>\n",
       "      <td>0.45</td>\n",
       "      <td>100</td>\n",
       "      <td>450</td>\n",
       "      <td>New</td>\n",
       "      <td>4.4</td>\n",
       "    </tr>\n",
       "    <tr>\n",
       "      <th>9992</th>\n",
       "      <td>Residential Plot</td>\n",
       "      <td>Jubilee Hills</td>\n",
       "      <td>0.50</td>\n",
       "      <td>333</td>\n",
       "      <td>150</td>\n",
       "      <td>New</td>\n",
       "      <td>2.9</td>\n",
       "    </tr>\n",
       "    <tr>\n",
       "      <th>13947</th>\n",
       "      <td>Residential Plot</td>\n",
       "      <td>Kukatpally</td>\n",
       "      <td>0.32</td>\n",
       "      <td>213</td>\n",
       "      <td>150</td>\n",
       "      <td>New</td>\n",
       "      <td>2.4</td>\n",
       "    </tr>\n",
       "    <tr>\n",
       "      <th>14320</th>\n",
       "      <td>Residential Plot</td>\n",
       "      <td>Nagole Bandlaguda Road</td>\n",
       "      <td>0.16</td>\n",
       "      <td>106</td>\n",
       "      <td>150</td>\n",
       "      <td>New</td>\n",
       "      <td>2.0</td>\n",
       "    </tr>\n",
       "  </tbody>\n",
       "</table>\n",
       "</div>"
      ],
      "text/plain": [
       "                  title                location  price(L)  rate_persqft  \\\n",
       "7860   Residential Plot         Vanasthalipuram      0.45           100   \n",
       "9992   Residential Plot           Jubilee Hills      0.50           333   \n",
       "13947  Residential Plot              Kukatpally      0.32           213   \n",
       "14320  Residential Plot  Nagole Bandlaguda Road      0.16           106   \n",
       "\n",
       "       area_insqft building_status  agent_rating  \n",
       "7860           450             New           4.4  \n",
       "9992           150             New           2.9  \n",
       "13947          150             New           2.4  \n",
       "14320          150             New           2.0  "
      ]
     },
     "execution_count": 141,
     "metadata": {},
     "output_type": "execute_result"
    }
   ],
   "source": [
    "df.iloc[index_list,:]"
   ]
  },
  {
   "cell_type": "markdown",
   "metadata": {},
   "source": [
    "Hence all the value for Price(L) = 0 are replaced with correct values"
   ]
  },
  {
   "cell_type": "code",
   "execution_count": 142,
   "metadata": {},
   "outputs": [
    {
     "name": "stdout",
     "output_type": "stream",
     "text": [
      "\t\t\t Before Cleaning\n",
      "           price(L)   rate_persqft    area_insqft  agent_rating\n",
      "count  40260.000000   40260.000000   40260.000000  40260.000000\n",
      "mean      65.331670    3297.212072    2360.068728      3.574724\n",
      "std      126.247236    3850.078324    4190.331350      1.953369\n",
      "min        0.000000     100.000000     100.000000      0.000000\n",
      "25%       20.000000    1018.000000    1290.000000      3.400000\n",
      "50%       37.170000    2222.000000    1674.000000      4.600000\n",
      "75%       78.630000    4800.000000    2250.000000      4.900000\n",
      "max     7000.000000  172541.000000  215278.000000      5.000000\n",
      "---------------------------------------------------------------\n",
      "***************************************************************\n",
      "---------------------------------------------------------------\n",
      "\t\t\t After Cleaning\n",
      "           price(L)   rate_persqft    area_insqft  agent_rating\n",
      "count  25715.000000   25715.000000   25715.000000  25715.000000\n",
      "mean      68.963410    3491.056621    2328.315497      3.363387\n",
      "std      140.980722    4218.740006    4836.964889      2.017042\n",
      "min        0.160000     100.000000     100.000000      0.000000\n",
      "25%       20.000000    1111.000000    1250.000000      0.000000\n",
      "50%       38.980000    2556.000000    1645.000000      4.500000\n",
      "75%       76.000000    4962.000000    2250.000000      4.800000\n",
      "max     7000.000000  172541.000000  215278.000000      5.000000\n"
     ]
    }
   ],
   "source": [
    "#checking whether there's any change in mean and other values after data cleaning.\n",
    "\n",
    "print(\"\\t\\t\\t Before Cleaning\")\n",
    "print(unclean_df.describe())\n",
    "print('-'*63)\n",
    "print('*'*63)\n",
    "print('-'*63)\n",
    "print(\"\\t\\t\\t After Cleaning\")\n",
    "print(df.describe())"
   ]
  },
  {
   "cell_type": "markdown",
   "metadata": {},
   "source": [
    "**Difference b/w Observations:**\n",
    "\n",
    "price(L):\n",
    "\n",
    "* mean of prices changed from 65.33 to 68.96 L.\n",
    "* minimum price from 0 L to 0.16 L.\n",
    "* 25 percentile stays same 20 L i.e, 25% of prices lie below 20 L.\n",
    "* 50 percentile changed from 37.17 to 38.98 L i.e, 50% of prices lie below 38.98 L.\n",
    "* 75 percentile changed from 78.63 to 76.60 L i.e, 50% of prices lie below 76.60 L.\n",
    "* standard deviation(std) raised to 140.98 from 126.24\n",
    "\n",
    "rate_persqft:\n",
    "\n",
    "* mean ratepersqft from 3297.21 to 3491/-\n",
    "* 25 percentile from 1018 to 1111/-\n",
    "* 50 percentile from 2222 to 2556/-\n",
    "* 75 percentile from 4800 to 4962/-\n",
    "* standard deviation(std) from 3850.07 to 4218.05\n",
    "\n",
    "area_insqft:\n",
    "\n",
    "* mean area from 2360.06 to 2328.31\n",
    "* 25 percentile from 1290 sqft to 1250 sqft.\n",
    "* 50 percentile from 1674 sqft to 1645 sqft.\n",
    "* 75 percentile stays same i.e, 2250 sqft.\n",
    "* standard deviation(std) from 4190.33 to 4836.96\n",
    "\n",
    "agent_rating:\n",
    "\n",
    "* mean of rating from 3.5 to 3.3\n",
    "* 25 percentile from 3.4 to 0.0\n",
    "* 50 percentile from 4.6 to 4.5\n",
    "* 75 percentile from 4.9 to 4.8\n",
    "* standard deviation(std) from 1.95 to 2.01"
   ]
  },
  {
   "cell_type": "code",
   "execution_count": 143,
   "metadata": {},
   "outputs": [],
   "source": [
    "# saving the Clean dataset\n",
    "df.to_csv('Clean_data.csv')"
   ]
  }
 ],
 "metadata": {
  "kernelspec": {
   "display_name": "Python 3",
   "language": "python",
   "name": "python3"
  },
  "language_info": {
   "codemirror_mode": {
    "name": "ipython",
    "version": 3
   },
   "file_extension": ".py",
   "mimetype": "text/x-python",
   "name": "python",
   "nbconvert_exporter": "python",
   "pygments_lexer": "ipython3",
   "version": "3.7.6"
  }
 },
 "nbformat": 4,
 "nbformat_minor": 4
}
